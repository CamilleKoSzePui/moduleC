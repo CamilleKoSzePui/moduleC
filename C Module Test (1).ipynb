{
 "cells": [
  {
   "cell_type": "code",
   "execution_count": 2,
   "metadata": {
    "ExecuteTime": {
     "end_time": "2022-03-06T01:16:09.956706Z",
     "start_time": "2022-03-06T01:16:09.950721Z"
    }
   },
   "outputs": [],
   "source": [
    "import pandas as pd\n",
    "import numpy as np\n",
    "from numpy import save\n",
    "%matplotlib inline"
   ]
  },
  {
   "cell_type": "markdown",
   "metadata": {},
   "source": [
    "# C | Module Test"
   ]
  },
  {
   "cell_type": "markdown",
   "metadata": {},
   "source": [
    "<!-- BEGIN QUESTION -->\n",
    "\n",
    "## Part I&nbsp;&nbsp;&nbsp;&nbsp;&nbsp;&nbsp;(10 Points)"
   ]
  },
  {
   "cell_type": "code",
   "execution_count": null,
   "metadata": {
    "ExecuteTime": {
     "start_time": "2022-03-06T09:10:36.341Z"
    },
    "tags": []
   },
   "outputs": [],
   "source": [
    "# Write your solution here\n"
   ]
  },
  {
   "cell_type": "markdown",
   "metadata": {},
   "source": [
    "<!-- END QUESTION -->\n",
    "\n",
    "<!-- BEGIN QUESTION -->\n",
    "\n",
    "## Part II&nbsp;&nbsp;&nbsp;&nbsp;&nbsp;&nbsp;(15 Points)"
   ]
  },
  {
   "cell_type": "code",
   "execution_count": null,
   "metadata": {
    "tags": []
   },
   "outputs": [],
   "source": [
    "file=np.load('./numpy_arrays.npz')\n",
    "arr1,arr2,arr3=file.files\n",
    "arr1,arr2,arr3=file[arr1],files[arr2],files[arr3]\n",
    "result_arr=None\n",
    "# Write your solution here\n",
    "\n"
   ]
  },
  {
   "cell_type": "markdown",
   "metadata": {},
   "source": [
    "<!-- END QUESTION -->\n",
    "\n",
    "<!-- BEGIN QUESTION -->\n",
    "\n",
    "## Part III&nbsp;&nbsp;&nbsp;&nbsp;&nbsp;&nbsp;(25 Points)"
   ]
  },
  {
   "cell_type": "code",
   "execution_count": null,
   "metadata": {
    "ExecuteTime": {
     "start_time": "2022-03-06T09:13:57.500Z"
    },
    "tags": []
   },
   "outputs": [],
   "source": [
    "# Write your solution here\n",
    "df_q1,df_q3,ps_q2,ps_q4 = None,None,None,None"
   ]
  },
  {
   "cell_type": "markdown",
   "metadata": {},
   "source": [
    "<!-- END QUESTION -->\n",
    "\n",
    "<!-- BEGIN QUESTION -->\n",
    "\n",
    "## Part IV&nbsp;&nbsp;&nbsp;&nbsp;&nbsp;&nbsp;(25 Points)"
   ]
  },
  {
   "cell_type": "code",
   "execution_count": null,
   "metadata": {},
   "outputs": [],
   "source": [
    "# Write your solution here\n",
    "cereal_ratings=None"
   ]
  },
  {
   "cell_type": "markdown",
   "metadata": {},
   "source": [
    "<!-- END QUESTION -->\n",
    "\n"
   ]
  },
  {
   "cell_type": "markdown",
   "metadata": {},
   "source": [
    "<!-- END QUESTION -->\n",
    "\n",
    "<!-- BEGIN QUESTION -->\n",
    "\n",
    "## Part V&nbsp;&nbsp;&nbsp;&nbsp;&nbsp;&nbsp;(20 Points)"
   ]
  },
  {
   "cell_type": "code",
   "execution_count": 5,
   "metadata": {
    "ExecuteTime": {
     "end_time": "2022-03-11T04:54:44.265214Z",
     "start_time": "2022-03-11T04:54:35.904128Z"
    },
    "collapsed": true
   },
   "outputs": [
    {
     "name": "stdout",
     "output_type": "stream",
     "text": [
      "Welcome Guest. Please choose the city where you want to reserve a room\n",
      "1   Melbourne : Cost per day of stay 250 AUD\n",
      "2   Adelaide : Cost per day of stay 230 AUD\n",
      "3   Canberra : Cost per day of stay 250 AUD\n",
      "4   Sydney : Cost per day of stay 320 AUD\n",
      "5   Perth : Cost per day of stay 200 AUD\n",
      "Enter the number corresponding to the city you would like to book5\n",
      "Enter the number of days you would like to book for1\n",
      "You have selected to stay at Perth for 1 days\n",
      "You get a discount\n",
      "Your total cost is 180.0 AUD\n"
     ]
    }
   ],
   "source": [
    "lst1=['Melbourne','Adelaide','Canberra','Sydney','Perth']#List to store city names\n",
    "lst2=[250,230,250,320,200]#List to store cost of \n",
    "print(\"Welcome Guest. Please choose the city where you want to reserve a room\")\n",
    "i=1\n",
    "for city in lst1:\n",
    "    print(i,' ',city,': Cost per day of stay',lst2[i-1],'AUD')\n",
    "    i+=1\n",
    "ip=input('Enter the number corresponding to the city you would like to book')#selected city\n",
    "ip2=input('Enter the number of days you would like to book for')#selcted duration\n",
    "d=0 #discount set to 0 \n",
    "if (int(ip2)>=7):\n",
    "    if (int(ip)!=4):\n",
    "        d=0.05\n",
    "elif (int(ip)==5):\n",
    "    d=0.1\n",
    "else: pass\n",
    "print('You have selected to stay at',lst1[int(ip)-1],'for',ip2,'days')\n",
    "if(d>0):\n",
    "    print(\"You get a discount\")\n",
    "print('Your total cost is',lst2[int(ip)-1]*int(ip2)*(1-d),'AUD')"
   ]
  }
 ],
 "metadata": {
  "celltoolbar": "Edit Metadata",
  "kernelspec": {
   "display_name": "Python 3",
   "language": "python",
   "name": "python3"
  },
  "language_info": {
   "codemirror_mode": {
    "name": "ipython",
    "version": 3
   },
   "file_extension": ".py",
   "mimetype": "text/x-python",
   "name": "python",
   "nbconvert_exporter": "python",
   "pygments_lexer": "ipython3",
   "version": "3.7.6"
  },
  "varInspector": {
   "cols": {
    "lenName": 16,
    "lenType": 16,
    "lenVar": 40
   },
   "kernels_config": {
    "python": {
     "delete_cmd_postfix": "",
     "delete_cmd_prefix": "del ",
     "library": "var_list.py",
     "varRefreshCmd": "print(var_dic_list())"
    },
    "r": {
     "delete_cmd_postfix": ") ",
     "delete_cmd_prefix": "rm(",
     "library": "var_list.r",
     "varRefreshCmd": "cat(var_dic_list()) "
    }
   },
   "position": {
    "height": "363.844px",
    "left": "1550px",
    "right": "20px",
    "top": "120px",
    "width": "350px"
   },
   "types_to_exclude": [
    "module",
    "function",
    "builtin_function_or_method",
    "instance",
    "_Feature"
   ],
   "window_display": true
  }
 },
 "nbformat": 4,
 "nbformat_minor": 4
}
